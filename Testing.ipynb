{
 "cells": [
  {
   "cell_type": "code",
   "execution_count": 1,
   "metadata": {},
   "outputs": [],
   "source": [
    "import pandas as pd\n",
    "import numpy as np\n",
    "\n",
    "from sklearn.metrics.pairwise import cosine_similarity\n",
    "import pickle\n",
    "\n",
    "import matplotlib.pyplot as plt\n",
    "import seaborn as sns \n",
    "\n",
    "%matplotlib inline\n",
    "\n",
    "import csv\n",
    "\n",
    "from tqdm import tqdm"
   ]
  },
  {
   "cell_type": "code",
   "execution_count": 2,
   "metadata": {},
   "outputs": [],
   "source": [
    "vocabSize = 1000000\n",
    "\n",
    "wordCount = pickle.load(open('wordCount','rb'))\n",
    "\n",
    "\n",
    "vocab = wordCount.most_common(vocabSize)\n",
    "\n",
    "id_to_word = {i:x[0] for i,x in enumerate(vocab)}\n",
    "\n",
    "word_to_id = {value:key for key,value in id_to_word.items()}"
   ]
  },
  {
   "cell_type": "code",
   "execution_count": 3,
   "metadata": {},
   "outputs": [],
   "source": [
    "focal = pickle.load(open('focal_embed_30','rb'))\n",
    "context = pickle.load(open('context_embed_30','rb'))\n"
   ]
  },
  {
   "cell_type": "code",
   "execution_count": 19,
   "metadata": {},
   "outputs": [],
   "source": [
    "def getSimilarity(word1, word2, cat = None):\n",
    "    \n",
    "    word1_vec_f = focal[word_to_id[word1]].reshape(1,-1)\n",
    "    word2_vec_f = focal[word_to_id[word2]].reshape(1,-1)\n",
    "    \n",
    "    word1_vec_c = context[word_to_id[word1]].reshape(1,-1)\n",
    "    word2_vec_c = context[word_to_id[word2]].reshape(1,-1)\n",
    "    \n",
    "    word1_vec = word1_vec_c + word1_vec_f\n",
    "    word2_vec = word2_vec_c + word2_vec_f\n",
    "    \n",
    "    return cosine_similarity(word1_vec_f, word2_vec_f),cosine_similarity(word1_vec_c, word2_vec_c), cosine_similarity(word1_vec, word2_vec),\n",
    "    \n",
    "    \n",
    "    \n",
    "    "
   ]
  },
  {
   "cell_type": "code",
   "execution_count": 20,
   "metadata": {},
   "outputs": [
    {
     "data": {
      "text/plain": [
       "(array([[0.5138645]], dtype=float32),\n",
       " array([[0.6096065]], dtype=float32),\n",
       " array([[0.6189511]], dtype=float32))"
      ]
     },
     "execution_count": 20,
     "metadata": {},
     "output_type": "execute_result"
    }
   ],
   "source": [
    "getSimilarity('happy','sad')"
   ]
  },
  {
   "cell_type": "code",
   "execution_count": 21,
   "metadata": {},
   "outputs": [
    {
     "data": {
      "text/plain": [
       "(array([[0.6887676]], dtype=float32),\n",
       " array([[0.5940156]], dtype=float32),\n",
       " array([[0.6868048]], dtype=float32))"
      ]
     },
     "execution_count": 21,
     "metadata": {},
     "output_type": "execute_result"
    }
   ],
   "source": [
    "getSimilarity('happy','joy')"
   ]
  },
  {
   "cell_type": "code",
   "execution_count": 23,
   "metadata": {},
   "outputs": [
    {
     "data": {
      "text/plain": [
       "(array([[0.37813732]], dtype=float32),\n",
       " array([[0.409115]], dtype=float32),\n",
       " array([[0.43154302]], dtype=float32))"
      ]
     },
     "execution_count": 23,
     "metadata": {},
     "output_type": "execute_result"
    }
   ],
   "source": [
    "getSimilarity('glad','happy')"
   ]
  },
  {
   "cell_type": "code",
   "execution_count": 29,
   "metadata": {},
   "outputs": [
    {
     "data": {
      "text/plain": [
       "(array([[0.15965402]], dtype=float32),\n",
       " array([[0.05595398]], dtype=float32),\n",
       " array([[0.07510523]], dtype=float32))"
      ]
     },
     "execution_count": 29,
     "metadata": {},
     "output_type": "execute_result"
    }
   ],
   "source": [
    "getSimilarity('trump','joy')"
   ]
  },
  {
   "cell_type": "code",
   "execution_count": 30,
   "metadata": {},
   "outputs": [
    {
     "data": {
      "text/plain": [
       "(array([[0.16862899]], dtype=float32),\n",
       " array([[0.02129865]], dtype=float32),\n",
       " array([[0.07248678]], dtype=float32))"
      ]
     },
     "execution_count": 30,
     "metadata": {},
     "output_type": "execute_result"
    }
   ],
   "source": [
    "getSimilarity('trump','angry')"
   ]
  },
  {
   "cell_type": "code",
   "execution_count": 31,
   "metadata": {},
   "outputs": [
    {
     "data": {
      "text/plain": [
       "(array([[0.00309093]], dtype=float32),\n",
       " array([[-0.02934984]], dtype=float32),\n",
       " array([[-0.0651384]], dtype=float32))"
      ]
     },
     "execution_count": 31,
     "metadata": {},
     "output_type": "execute_result"
    }
   ],
   "source": [
    "getSimilarity('trump','sad')"
   ]
  },
  {
   "cell_type": "code",
   "execution_count": 34,
   "metadata": {},
   "outputs": [
    {
     "data": {
      "text/plain": [
       "array([     0,      1,      2, ..., 999990, 999993, 999997], dtype=int32)"
      ]
     },
     "execution_count": 34,
     "metadata": {},
     "output_type": "execute_result"
    }
   ],
   "source": [
    "a.indices"
   ]
  },
  {
   "cell_type": "code",
   "execution_count": 8,
   "metadata": {},
   "outputs": [],
   "source": [
    "#After 20 iters"
   ]
  },
  {
   "cell_type": "code",
   "execution_count": 9,
   "metadata": {},
   "outputs": [
    {
     "data": {
      "text/plain": [
       "(array([[0.21809852]], dtype=float32),\n",
       " array([[0.44713795]], dtype=float32),\n",
       " array([[0.5153621]], dtype=float32))"
      ]
     },
     "execution_count": 9,
     "metadata": {},
     "output_type": "execute_result"
    }
   ],
   "source": [
    "getSimilarity('happy','sad')"
   ]
  },
  {
   "cell_type": "code",
   "execution_count": 10,
   "metadata": {},
   "outputs": [
    {
     "data": {
      "text/plain": [
       "(array([[0.46207908]], dtype=float32),\n",
       " array([[0.45473552]], dtype=float32),\n",
       " array([[0.58758694]], dtype=float32))"
      ]
     },
     "execution_count": 10,
     "metadata": {},
     "output_type": "execute_result"
    }
   ],
   "source": [
    "getSimilarity('happy','joy')"
   ]
  },
  {
   "cell_type": "code",
   "execution_count": 11,
   "metadata": {},
   "outputs": [
    {
     "data": {
      "text/plain": [
       "(array([[0.15788756]], dtype=float32),\n",
       " array([[0.05948482]], dtype=float32),\n",
       " array([[0.06841627]], dtype=float32))"
      ]
     },
     "execution_count": 11,
     "metadata": {},
     "output_type": "execute_result"
    }
   ],
   "source": [
    "getSimilarity('glad','joy')"
   ]
  },
  {
   "cell_type": "code",
   "execution_count": 12,
   "metadata": {},
   "outputs": [
    {
     "data": {
      "text/plain": [
       "(array([[0.2006445]], dtype=float32),\n",
       " array([[0.10079014]], dtype=float32),\n",
       " array([[0.11198172]], dtype=float32))"
      ]
     },
     "execution_count": 12,
     "metadata": {},
     "output_type": "execute_result"
    }
   ],
   "source": [
    "getSimilarity('trump','joy')"
   ]
  },
  {
   "cell_type": "code",
   "execution_count": 13,
   "metadata": {},
   "outputs": [
    {
     "data": {
      "text/plain": [
       "(array([[0.16391163]], dtype=float32),\n",
       " array([[0.16077389]], dtype=float32),\n",
       " array([[0.18015333]], dtype=float32))"
      ]
     },
     "execution_count": 13,
     "metadata": {},
     "output_type": "execute_result"
    }
   ],
   "source": [
    "getSimilarity('trump','angry')"
   ]
  },
  {
   "cell_type": "code",
   "execution_count": 14,
   "metadata": {},
   "outputs": [
    {
     "data": {
      "text/plain": [
       "(array([[0.10551284]], dtype=float32),\n",
       " array([[0.11864118]], dtype=float32),\n",
       " array([[0.08880009]], dtype=float32))"
      ]
     },
     "execution_count": 14,
     "metadata": {},
     "output_type": "execute_result"
    }
   ],
   "source": [
    "getSimilarity('trump','sad')"
   ]
  },
  {
   "cell_type": "markdown",
   "metadata": {},
   "source": [
    "### Output TSNE vectors"
   ]
  },
  {
   "cell_type": "code",
   "execution_count": 10,
   "metadata": {},
   "outputs": [],
   "source": [
    "wordList = []\n",
    "\n",
    "with open('financeWordList.txt') as f:\n",
    "    wordList = f.readlines()\n",
    "    \n",
    "wordList = [x[:-1].split(\"\\t\")[0] for x in wordList[1:]]"
   ]
  },
  {
   "cell_type": "code",
   "execution_count": 11,
   "metadata": {},
   "outputs": [
    {
     "data": {
      "text/plain": [
       "['money',\n",
       " 'currency',\n",
       " 'finance',\n",
       " 'market',\n",
       " 'grocery',\n",
       " 'funds',\n",
       " 'shares',\n",
       " 'mutual',\n",
       " 'deposit',\n",
       " 'stock',\n",
       " 'stocks',\n",
       " 'investor',\n",
       " 'investment',\n",
       " 'trade',\n",
       " 'trades',\n",
       " 'bond',\n",
       " 'strength',\n",
       " 'join',\n",
       " 'food',\n",
       " 'farm',\n",
       " 'capital',\n",
       " 'territory',\n",
       " 'interest',\n",
       " 'like',\n",
       " 'attention',\n",
       " 'notice']"
      ]
     },
     "execution_count": 11,
     "metadata": {},
     "output_type": "execute_result"
    }
   ],
   "source": [
    "wordList"
   ]
  },
  {
   "cell_type": "code",
   "execution_count": 12,
   "metadata": {},
   "outputs": [],
   "source": [
    "def getVec(word, types = 'focal'):\n",
    "    \n",
    "    if types == 'focal':\n",
    "        return focal[word_to_id[word]]\n",
    "    elif types =='context':\n",
    "        return context[word_to_id[word]]\n",
    "    else:\n",
    "        return focal[word_to_id[word]] + context[word_to_id[word]]"
   ]
  },
  {
   "cell_type": "code",
   "execution_count": 13,
   "metadata": {},
   "outputs": [],
   "source": [
    "vecList = []\n",
    "\n",
    "for i in range(len(wordList)):\n",
    "    \n",
    "    vecList.append(getVec(wordList[i]))\n",
    "\n"
   ]
  },
  {
   "cell_type": "code",
   "execution_count": 14,
   "metadata": {},
   "outputs": [],
   "source": [
    "vecList = np.array(vecList)"
   ]
  },
  {
   "cell_type": "code",
   "execution_count": 15,
   "metadata": {},
   "outputs": [],
   "source": [
    "df = pd.DataFrame(vecList).to_csv('vecList.tsv',sep='\\t', quoting=csv.QUOTE_NONE, index=False, index_label=False,header=None)"
   ]
  },
  {
   "cell_type": "code",
   "execution_count": 33,
   "metadata": {},
   "outputs": [
    {
     "data": {
      "text/plain": [
       "array([[-0.362, -0.164,  0.166, ...,  0.172, -0.093, -0.059],\n",
       "       [-0.026,  0.284,  0.215, ...,  0.296,  0.396, -0.011],\n",
       "       [-0.007, -0.071, -0.14 , ...,  0.086,  0.273,  0.103],\n",
       "       ...,\n",
       "       [-0.277,  0.19 , -0.096, ..., -0.007, -0.039, -0.34 ],\n",
       "       [-0.417,  0.161, -0.126, ..., -0.074,  0.073, -0.185],\n",
       "       [-0.219,  0.256, -0.11 , ..., -0.058,  0.177, -0.488]],\n",
       "      dtype=float32)"
      ]
     },
     "execution_count": 33,
     "metadata": {},
     "output_type": "execute_result"
    }
   ],
   "source": [
    "np.round(vecList,3)"
   ]
  },
  {
   "cell_type": "markdown",
   "metadata": {},
   "source": [
    "### Creating plots"
   ]
  },
  {
   "cell_type": "code",
   "execution_count": 2,
   "metadata": {},
   "outputs": [],
   "source": [
    "a = pd.read_csv('output_15.csv')"
   ]
  },
  {
   "cell_type": "code",
   "execution_count": 8,
   "metadata": {},
   "outputs": [],
   "source": [
    "a.drop('Unnamed: 0',inplace = True, axis = 1)\n",
    "a.index = list(a.columns)\n",
    "\n",
    "plt.figure(figsize = (10,10))\n",
    "sns.heatmap(a)"
   ]
  },
  {
   "cell_type": "code",
   "execution_count": 2,
   "metadata": {},
   "outputs": [],
   "source": [
    "def createPlot(filename):\n",
    "    \n",
    "    a = pd.read_csv(filename)\n",
    "    index = filename.split(\"_\")[-1].split(\".\")[0]\n",
    "    \n",
    "    a.drop('Unnamed: 0',inplace = True, axis = 1)\n",
    "    a.index = list(a.columns)\n",
    "\n",
    "    plt.figure(figsize = (10,10))\n",
    "    plot = sns.heatmap(a)\n",
    "    fig = plot.get_figure()\n",
    "    fig.savefig(\"/home/santhosr/Documents/Courses/GloVe/Combined/output_\"+str(index)+\".png\")\n",
    "    fig.clf()\n",
    "    \n",
    "    plt.close('all')\n",
    "    \n",
    "    "
   ]
  },
  {
   "cell_type": "code",
   "execution_count": 3,
   "metadata": {},
   "outputs": [
    {
     "name": "stderr",
     "output_type": "stream",
     "text": [
      "100%|██████████| 11/11 [00:03<00:00,  3.41it/s]\n"
     ]
    }
   ],
   "source": [
    "for i in tqdm(range(0,11)):\n",
    "    createPlot('/home/santhosr/Documents/Courses/GloVe/Combined/output_'+str(i)+'.csv')"
   ]
  },
  {
   "cell_type": "code",
   "execution_count": null,
   "metadata": {},
   "outputs": [],
   "source": []
  },
  {
   "cell_type": "markdown",
   "metadata": {},
   "source": [
    "### Comparing Vectors"
   ]
  },
  {
   "cell_type": "code",
   "execution_count": 11,
   "metadata": {},
   "outputs": [],
   "source": [
    "iter19 = pickle.load(open('/home/santhosr/Documents/Courses/GloVe/Combined/Outputs/run1/vectors_19','rb'))"
   ]
  },
  {
   "cell_type": "code",
   "execution_count": 12,
   "metadata": {},
   "outputs": [],
   "source": [
    "iter20 = pickle.load(open('/home/santhosr/Documents/Courses/GloVe/Combined//vectors_20','rb'))"
   ]
  },
  {
   "cell_type": "code",
   "execution_count": 13,
   "metadata": {},
   "outputs": [],
   "source": [
    "iter21 = pickle.load(open('/home/santhosr/Documents/Courses/GloVe/Combined//vectors_21','rb'))"
   ]
  },
  {
   "cell_type": "code",
   "execution_count": 14,
   "metadata": {},
   "outputs": [
    {
     "data": {
      "text/plain": [
       "array([[ 0.21419736,  0.37608376,  0.38375359,  0.55822744,  0.02376448,\n",
       "         0.0629039 , -0.08366993, -0.25640352,  0.21236808, -0.07452327,\n",
       "         0.3042607 ,  0.3077659 , -0.04015953, -0.75448262, -0.35997035,\n",
       "        -0.14508085, -0.18484113,  0.53941643,  0.13295973,  0.40860824,\n",
       "        -0.69121893,  0.41388928,  0.37963962, -0.37031569, -0.03407085,\n",
       "         0.59314984,  0.06913729, -0.03479349,  0.25663908,  0.50618451,\n",
       "         0.10713476,  0.31670395, -0.27584387,  0.31545877,  0.2216125 ,\n",
       "        -0.53790899,  0.30601954, -0.09109011, -0.32780648,  0.39573568,\n",
       "        -0.01603103, -0.40824233, -0.41359364,  0.08731299,  0.32841773,\n",
       "        -0.21984676, -0.54396458,  0.11803389, -0.26006599,  0.30366134,\n",
       "         0.22414797,  0.48689513,  0.19134835, -0.13852205, -0.17894172,\n",
       "        -0.09195593,  0.04966683,  0.2890392 ,  0.32669468,  0.65328522,\n",
       "        -0.10516156, -0.62187181, -0.33977548, -0.15750885,  0.03561835,\n",
       "         0.24738176, -0.00300699,  0.25272236,  0.15589216,  0.09166557,\n",
       "        -0.31302182,  0.24129044, -0.50328375,  0.31535319, -0.25909476,\n",
       "        -0.17157744, -0.06730998,  0.03301514, -0.17315005, -0.15093559,\n",
       "        -0.1334616 , -0.41283892,  0.10704196, -0.14342176,  0.11470765,\n",
       "        -0.23941603,  0.43916294,  0.08570646,  0.79810038,  0.18198668,\n",
       "         0.12757092, -0.31107473, -0.41089059,  0.11450389, -0.09827697,\n",
       "        -0.22662127,  0.42510196, -0.44750205, -0.57147518,  0.15235552]])"
      ]
     },
     "execution_count": 14,
     "metadata": {},
     "output_type": "execute_result"
    }
   ],
   "source": [
    "iter19[0]"
   ]
  },
  {
   "cell_type": "code",
   "execution_count": 15,
   "metadata": {},
   "outputs": [
    {
     "data": {
      "text/plain": [
       "array([[-0.03020226, -0.18530621, -0.18971471, -0.2589169 ,  0.28274411,\n",
       "        -0.24403704, -0.33162827, -0.26382095,  0.12561689, -0.12654847,\n",
       "        -0.04961572, -0.27798611, -0.0609039 ,  0.46745358,  0.07293451,\n",
       "         0.31041258,  0.10407142,  0.20986297, -0.14915539,  0.33164221,\n",
       "        -0.31419144, -0.2062289 ,  0.14006086, -0.02891152,  0.13109571,\n",
       "         0.27819446, -0.1776404 , -0.39715696,  0.19983371,  0.18702947,\n",
       "        -0.18598419,  0.23023425, -0.17426112,  0.29021978, -0.16879907,\n",
       "        -0.34909583, -0.31028556, -0.23722834,  0.35916007, -0.22260562,\n",
       "        -0.25227143,  0.2346476 , -0.10682473, -0.22974718,  0.35285042,\n",
       "         0.08852486, -0.28123026,  0.32151736,  0.27008913, -0.34653887,\n",
       "        -0.10317461,  0.31036792,  0.17692814,  0.27267828,  0.13474819,\n",
       "         0.14502461,  0.20454682, -0.17702583,  0.06332033,  0.02229482,\n",
       "         0.03104597,  0.05411408,  0.19806357, -0.29459979, -0.42457314,\n",
       "        -0.10431104, -0.31915943,  0.20419395,  0.00615665, -0.60007235,\n",
       "         0.21419959,  0.2706398 , -0.40323697, -0.2723825 , -0.22516937,\n",
       "         0.24760286,  0.24601706,  0.31299822, -0.35682452,  0.1690245 ,\n",
       "        -0.11194515, -0.03454132, -0.04548814, -0.19166488,  0.02993597,\n",
       "        -0.25695176, -0.26881828, -0.33049493, -0.11607103, -0.23275848,\n",
       "         0.15187221, -0.20968657, -0.27335265,  0.18837221, -0.30686251,\n",
       "        -0.17674404,  0.28678934, -0.51050102, -0.27733986, -0.27368696]])"
      ]
     },
     "execution_count": 15,
     "metadata": {},
     "output_type": "execute_result"
    }
   ],
   "source": [
    "iter20[0]"
   ]
  },
  {
   "cell_type": "code",
   "execution_count": 16,
   "metadata": {},
   "outputs": [
    {
     "data": {
      "text/plain": [
       "array([[-0.0685621 , -0.05850976, -0.16998207, -0.26953854,  0.30281827,\n",
       "        -0.25321124, -0.34782091, -0.27567916,  0.07847436, -0.13978765,\n",
       "        -0.03885137, -0.28610866, -0.00735985,  0.41507011, -0.06597665,\n",
       "         0.36413546,  0.11330846,  0.19481676, -0.32095087,  0.34249495,\n",
       "        -0.32704604, -0.19224487,  0.10695173, -0.01776277,  0.163946  ,\n",
       "         0.1652856 , -0.19630462, -0.34827044,  0.20966117,  0.20717817,\n",
       "        -0.25353543,  0.20580627, -0.12200643,  0.30008873, -0.065706  ,\n",
       "        -0.46457951, -0.28842862, -0.33026315,  0.36897105, -0.22306559,\n",
       "        -0.21274733,  0.25668202,  0.01086658, -0.22957616,  0.36457797,\n",
       "         0.42016986, -0.17459922,  0.34223923,  0.28123349, -0.36363003,\n",
       "        -0.11035915,  0.31851104,  0.08800693,  0.28750655,  0.10762462,\n",
       "         0.16931823,  0.21557258, -0.18526806,  0.14716782, -0.140531  ,\n",
       "         0.16222156,  0.01449658,  0.20578145, -0.31497209, -0.39278312,\n",
       "        -0.24447244, -0.33252378,  0.17450174, -0.03790394, -0.70229373,\n",
       "         0.23068413,  0.27967012, -0.43884607, -0.28891384, -0.22732093,\n",
       "         0.29910239,  0.27323956,  0.3323482 , -0.36942491,  0.28001676,\n",
       "         0.04012107, -0.24678143, -0.07659121, -0.24849259, -0.03469688,\n",
       "        -0.26501444, -0.27996747, -0.3478972 , -0.02333425, -0.38009182,\n",
       "         0.16971832, -0.21362654, -0.28327303,  0.23145777, -0.32235038,\n",
       "        -0.19783992,  0.31370648, -0.57397826, -0.28642598, -0.24120703]])"
      ]
     },
     "execution_count": 16,
     "metadata": {},
     "output_type": "execute_result"
    }
   ],
   "source": [
    "iter21[0]"
   ]
  },
  {
   "cell_type": "code",
   "execution_count": null,
   "metadata": {},
   "outputs": [],
   "source": []
  }
 ],
 "metadata": {
  "kernelspec": {
   "display_name": "python3.6",
   "language": "python",
   "name": "fastai"
  },
  "language_info": {
   "codemirror_mode": {
    "name": "ipython",
    "version": 3
   },
   "file_extension": ".py",
   "mimetype": "text/x-python",
   "name": "python",
   "nbconvert_exporter": "python",
   "pygments_lexer": "ipython3",
   "version": "3.6.8"
  }
 },
 "nbformat": 4,
 "nbformat_minor": 2
}
